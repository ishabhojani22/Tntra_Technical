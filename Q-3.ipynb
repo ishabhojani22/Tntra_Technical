{
 "cells": [
  {
   "cell_type": "markdown",
   "id": "109d4791",
   "metadata": {},
   "source": [
    "# Problem 3:  Biggest and smallest number in an array\n",
    " Write a program to print the biggest and smallest number in the array. \n",
    "\n",
    "Input: arr[] = {1, 2, 3, 4, 5}\n",
    "Output: Maximum is: 5\n",
    "Minimum is: 1\n",
    "\n",
    "Input: arr[] = {5, 3, 7, 4, 2}\n",
    "Output: Maximum is: 7\n",
    "Minimum is: 2\n",
    "\n",
    "\n"
   ]
  },
  {
   "cell_type": "code",
   "execution_count": 1,
   "id": "c8b97512",
   "metadata": {},
   "outputs": [
    {
     "name": "stdout",
     "output_type": "stream",
     "text": [
      "Maximum is: 5\n",
      "Minimum is: 1\n",
      "Maximum is: 7\n",
      "Minimum is: 2\n"
     ]
    }
   ],
   "source": [
    "def find_len(list1):\n",
    "    length = len(list1)\n",
    "    list1.sort()\n",
    "    print(\"Maximum is:\", list1[length-1])\n",
    "    print(\"Minimum is:\", list1[0])\n",
    "    \n",
    "\n",
    "list1=[1,2,3,4,5]\n",
    "list2=[5, 3, 7, 4, 2]\n",
    "Largest = find_len(list1)\n",
    "Largest = find_len(list2)"
   ]
  }
 ],
 "metadata": {
  "kernelspec": {
   "display_name": "Python 3 (ipykernel)",
   "language": "python",
   "name": "python3"
  },
  "language_info": {
   "codemirror_mode": {
    "name": "ipython",
    "version": 3
   },
   "file_extension": ".py",
   "mimetype": "text/x-python",
   "name": "python",
   "nbconvert_exporter": "python",
   "pygments_lexer": "ipython3",
   "version": "3.10.9"
  }
 },
 "nbformat": 4,
 "nbformat_minor": 5
}
