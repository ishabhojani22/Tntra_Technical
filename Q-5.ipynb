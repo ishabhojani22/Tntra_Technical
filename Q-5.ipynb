{
 "cells": [
  {
   "cell_type": "markdown",
   "id": "104ca0d0",
   "metadata": {},
   "source": [
    "# Problem 5: Swap two numbers without using a temporary variable\n",
    " Input:integer a = \"10\", b = \"50\".\n",
    "Output: Strings after swap: a = 50 and b = 10\n"
   ]
  },
  {
   "cell_type": "code",
   "execution_count": 5,
   "id": "3de60620",
   "metadata": {},
   "outputs": [
    {
     "name": "stdout",
     "output_type": "stream",
     "text": [
      "enter a :10\n",
      "enter b :50\n",
      "after swap a is : 50\n",
      "after swap b is : 10\n"
     ]
    }
   ],
   "source": [
    "a=int(input(\"enter a :\"))\n",
    "b=int(input(\"enter b :\"))\n",
    "a,b=b,a\n",
    "print(\"after swap a is :\",a)\n",
    "print(\"after swap b is :\",b)"
   ]
  }
 ],
 "metadata": {
  "kernelspec": {
   "display_name": "Python 3 (ipykernel)",
   "language": "python",
   "name": "python3"
  },
  "language_info": {
   "codemirror_mode": {
    "name": "ipython",
    "version": 3
   },
   "file_extension": ".py",
   "mimetype": "text/x-python",
   "name": "python",
   "nbconvert_exporter": "python",
   "pygments_lexer": "ipython3",
   "version": "3.10.9"
  }
 },
 "nbformat": 4,
 "nbformat_minor": 5
}
