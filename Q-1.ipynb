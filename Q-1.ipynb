{
 "cells": [
  {
   "cell_type": "markdown",
   "id": "ba4ee0c1",
   "metadata": {},
   "source": [
    "# Problem 1: Program to count occurrences of a given character in a string.\n",
    "\n",
    " Count character 'e' in the below string.\n",
    "\tInput \"geeksforgeeks\". \n",
    "\tOutput: 4\n",
    "\n",
    "\tCount character 'a' in the below string.\n",
    "\tInput \"abccdefgaa.\"\n",
    "\tOutput : 3\n",
    "\n",
    "\n"
   ]
  },
  {
   "cell_type": "code",
   "execution_count": 1,
   "id": "81f07b68",
   "metadata": {},
   "outputs": [
    {
     "name": "stdout",
     "output_type": "stream",
     "text": [
      "4\n",
      "3\n"
     ]
    }
   ],
   "source": [
    "str1 = \"geeksforgeeks\"\n",
    "c = 'e'\n",
    "str2=\"abccdefgaa\"\n",
    "c1='a'\n",
    "\n",
    "print(len(str1.split(c)) - 1);\n",
    "print(len(str2.split(c1))-1);"
   ]
  }
 ],
 "metadata": {
  "kernelspec": {
   "display_name": "Python 3 (ipykernel)",
   "language": "python",
   "name": "python3"
  },
  "language_info": {
   "codemirror_mode": {
    "name": "ipython",
    "version": 3
   },
   "file_extension": ".py",
   "mimetype": "text/x-python",
   "name": "python",
   "nbconvert_exporter": "python",
   "pygments_lexer": "ipython3",
   "version": "3.10.9"
  }
 },
 "nbformat": 4,
 "nbformat_minor": 5
}
