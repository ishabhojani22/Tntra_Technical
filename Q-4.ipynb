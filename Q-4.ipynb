{
 "cells": [
  {
   "cell_type": "markdown",
   "id": "80e57157",
   "metadata": {},
   "source": [
    "# Problem 4:  Swap two Strings Without Using any Third Variable\n",
    " Input: a = \"Hello\", b = \"World\".\n",
    "Output: Strings after swap: a = World and b = Hello\n",
    "\n",
    "\n"
   ]
  },
  {
   "cell_type": "code",
   "execution_count": 5,
   "id": "82cd1225",
   "metadata": {},
   "outputs": [
    {
     "name": "stdout",
     "output_type": "stream",
     "text": [
      "enter a: Hello\n",
      "enter b: World\n",
      "Before swap a is :  Hello\n",
      "Before swap b is :  World\n",
      "after swap a is :  World\n",
      "after swap b is :  Hello\n"
     ]
    }
   ],
   "source": [
    "a=input(\"enter a: \")\n",
    "b=input(\"enter b: \")\n",
    "print(\"Before swap a is : \",a)\n",
    "print(\"Before swap b is : \",b)\n",
    "a,b=b,a\n",
    "print(\"after swap a is : \",a)\n",
    "print(\"after swap b is : \",b)"
   ]
  }
 ],
 "metadata": {
  "kernelspec": {
   "display_name": "Python 3 (ipykernel)",
   "language": "python",
   "name": "python3"
  },
  "language_info": {
   "codemirror_mode": {
    "name": "ipython",
    "version": 3
   },
   "file_extension": ".py",
   "mimetype": "text/x-python",
   "name": "python",
   "nbconvert_exporter": "python",
   "pygments_lexer": "ipython3",
   "version": "3.10.9"
  }
 },
 "nbformat": 4,
 "nbformat_minor": 5
}
