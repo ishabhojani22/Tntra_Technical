{
 "cells": [
  {
   "cell_type": "markdown",
   "id": "dbe3867f",
   "metadata": {},
   "source": [
    "# Problem 2:  Determine whether a given string is Palindrome\n",
    " A string “madam” is a palindromic string because it reads the same forwards and backward. \n",
    "Input: “anna”\n",
    "Output: true\n",
    "\n",
    "Input: “India”\n",
    "Output: false\n"
   ]
  },
  {
   "cell_type": "code",
   "execution_count": 1,
   "id": "e33e881b",
   "metadata": {},
   "outputs": [
    {
     "name": "stdout",
     "output_type": "stream",
     "text": [
      "true\n"
     ]
    }
   ],
   "source": [
    "def isPalindrome(s):\n",
    "    return s == s[::-1]\n",
    "##\n",
    "\n",
    "s = \"anna\"\n",
    "ans = isPalindrome(s)\n",
    "\n",
    "if ans:\n",
    "    print(\"true\")\n",
    "else:\n",
    "    print(\"false\")"
   ]
  },
  {
   "cell_type": "code",
   "execution_count": 2,
   "id": "a9a56736",
   "metadata": {},
   "outputs": [
    {
     "name": "stdout",
     "output_type": "stream",
     "text": [
      "false\n"
     ]
    }
   ],
   "source": [
    "s1=\"India\"\n",
    "ans1 = isPalindrome(s1)\n",
    " \n",
    "if ans1:\n",
    "    print(\"true\")\n",
    "else:\n",
    "    print(\"false\") "
   ]
  }
 ],
 "metadata": {
  "kernelspec": {
   "display_name": "Python 3 (ipykernel)",
   "language": "python",
   "name": "python3"
  },
  "language_info": {
   "codemirror_mode": {
    "name": "ipython",
    "version": 3
   },
   "file_extension": ".py",
   "mimetype": "text/x-python",
   "name": "python",
   "nbconvert_exporter": "python",
   "pygments_lexer": "ipython3",
   "version": "3.10.9"
  }
 },
 "nbformat": 4,
 "nbformat_minor": 5
}
